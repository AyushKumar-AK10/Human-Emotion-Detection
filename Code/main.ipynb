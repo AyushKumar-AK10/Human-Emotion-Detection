{
 "cells": [
  {
   "cell_type": "code",
   "execution_count": 1,
   "metadata": {},
   "outputs": [],
   "source": [
    "import tensorflow as tf\n",
    "import numpy as np\n",
    "from matplotlib import pyplot as plt\n",
    "import os\n",
    "from tensorflow.keras.layers import Dense\n",
    "from tensorflow.keras.layers import Conv2D\n",
    "from tensorflow.keras.layers import MaxPool2D\n",
    "from tensorflow.keras.layers import Dropout\n",
    "from tensorflow.keras.layers import Flatten\n",
    "from tensorflow.keras.models import Sequential"
   ]
  },
  {
   "cell_type": "code",
   "execution_count": 2,
   "metadata": {},
   "outputs": [
    {
     "name": "stdout",
     "output_type": "stream",
     "text": [
      "[PhysicalDevice(name='/physical_device:GPU:0', device_type='GPU')]\n",
      "1\n"
     ]
    }
   ],
   "source": [
    "# Making sure tensorflow gpu doesn't waste vram\n",
    "gpus=tf.config.list_physical_devices('GPU')\n",
    "print(gpus)\n",
    "for gpu in gpus:\n",
    "    print(len(gpus))\n",
    "    tf.config.experimental.set_memory_growth(gpu,True)"
   ]
  },
  {
   "cell_type": "code",
   "execution_count": 3,
   "metadata": {},
   "outputs": [
    {
     "data": {
      "text/plain": [
       "['angry', 'disgust', 'fear', 'happy', 'neutral', 'sad', 'surprise']"
      ]
     },
     "execution_count": 3,
     "metadata": {},
     "output_type": "execute_result"
    }
   ],
   "source": [
    "train_dir=\"..\\\\Data\\\\train\"\n",
    "os.listdir(train_dir)"
   ]
  },
  {
   "cell_type": "code",
   "execution_count": 4,
   "metadata": {},
   "outputs": [
    {
     "name": "stdout",
     "output_type": "stream",
     "text": [
      "Found 28709 files belonging to 7 classes.\n",
      "<BatchDataset element_spec=(TensorSpec(shape=(None, 48, 48, 1), dtype=tf.float32, name=None), TensorSpec(shape=(None,), dtype=tf.int32, name=None))>\n",
      "(64, 48, 48, 1)\n",
      "(64,)\n"
     ]
    }
   ],
   "source": [
    "# Making the data pipeline for Input data.\n",
    "# Making Generator\n",
    "data=tf.keras.utils.image_dataset_from_directory(train_dir,batch_size=64,color_mode='grayscale',image_size=(48,48))\n",
    "# Making Iterator\n",
    "data_iterator=data.as_numpy_iterator();\n",
    "batch=data_iterator.next();\n",
    "\n",
    "print(data)\n",
    "\n",
    "#X\n",
    "print(batch[0].shape)\n",
    "#y\n",
    "print(batch[1].shape)"
   ]
  },
  {
   "cell_type": "code",
   "execution_count": 5,
   "metadata": {},
   "outputs": [],
   "source": [
    "# Normalising the input\n",
    "data=data.map(lambda x,y:(x/255,y))\n",
    "scaled_data_iterator=data.as_numpy_iterator()\n",
    "batch=scaled_data_iterator.next()"
   ]
  },
  {
   "cell_type": "code",
   "execution_count": 6,
   "metadata": {},
   "outputs": [
    {
     "name": "stdout",
     "output_type": "stream",
     "text": [
      "(64,)\n"
     ]
    }
   ],
   "source": [
    "train_size=int(len(data)*0.75)\n",
    "val_size=int(len(data))-train_size\n",
    "\n",
    "train=data.take(train_size)\n",
    "val=data.skip(train_size).take(val_size)\n",
    "\n",
    "iterator=train.as_numpy_iterator()\n",
    "batch=iterator.next()\n",
    "print(batch[1].shape)"
   ]
  },
  {
   "cell_type": "code",
   "execution_count": 10,
   "metadata": {},
   "outputs": [
    {
     "name": "stdout",
     "output_type": "stream",
     "text": [
      "Model: \"sequential_1\"\n",
      "_________________________________________________________________\n",
      " Layer (type)                Output Shape              Param #   \n",
      "=================================================================\n",
      " conv2d_3 (Conv2D)           (None, 48, 48, 32)        320       \n",
      "                                                                 \n",
      " conv2d_4 (Conv2D)           (None, 48, 48, 64)        18496     \n",
      "                                                                 \n",
      " batch_normalization_2 (Batc  (None, 48, 48, 64)       256       \n",
      " hNormalization)                                                 \n",
      "                                                                 \n",
      " max_pooling2d_2 (MaxPooling  (None, 24, 24, 64)       0         \n",
      " 2D)                                                             \n",
      "                                                                 \n",
      " dropout_2 (Dropout)         (None, 24, 24, 64)        0         \n",
      "                                                                 \n",
      " conv2d_5 (Conv2D)           (None, 24, 24, 128)       204928    \n",
      "                                                                 \n",
      " batch_normalization_3 (Batc  (None, 24, 24, 128)      512       \n",
      " hNormalization)                                                 \n",
      "                                                                 \n",
      " max_pooling2d_3 (MaxPooling  (None, 12, 12, 128)      0         \n",
      " 2D)                                                             \n",
      "                                                                 \n",
      " dropout_3 (Dropout)         (None, 12, 12, 128)       0         \n",
      "                                                                 \n",
      " conv2d_6 (Conv2D)           (None, 12, 12, 512)       590336    \n",
      "                                                                 \n",
      " batch_normalization_4 (Batc  (None, 12, 12, 512)      2048      \n",
      " hNormalization)                                                 \n",
      "                                                                 \n",
      " max_pooling2d_4 (MaxPooling  (None, 6, 6, 512)        0         \n",
      " 2D)                                                             \n",
      "                                                                 \n",
      " dropout_4 (Dropout)         (None, 6, 6, 512)         0         \n",
      "                                                                 \n",
      " conv2d_7 (Conv2D)           (None, 6, 6, 512)         2359808   \n",
      "                                                                 \n",
      " batch_normalization_5 (Batc  (None, 6, 6, 512)        2048      \n",
      " hNormalization)                                                 \n",
      "                                                                 \n",
      " max_pooling2d_5 (MaxPooling  (None, 3, 3, 512)        0         \n",
      " 2D)                                                             \n",
      "                                                                 \n",
      " dropout_5 (Dropout)         (None, 3, 3, 512)         0         \n",
      "                                                                 \n",
      " flatten (Flatten)           (None, 4608)              0         \n",
      "                                                                 \n",
      " dense (Dense)               (None, 256)               1179904   \n",
      "                                                                 \n",
      " batch_normalization_6 (Batc  (None, 256)              1024      \n",
      " hNormalization)                                                 \n",
      "                                                                 \n",
      " dropout_6 (Dropout)         (None, 256)               0         \n",
      "                                                                 \n",
      " dense_1 (Dense)             (None, 512)               131584    \n",
      "                                                                 \n",
      " batch_normalization_7 (Batc  (None, 512)              2048      \n",
      " hNormalization)                                                 \n",
      "                                                                 \n",
      " dropout_7 (Dropout)         (None, 512)               0         \n",
      "                                                                 \n",
      " dense_2 (Dense)             (None, 7)                 3591      \n",
      "                                                                 \n",
      "=================================================================\n",
      "Total params: 4,496,903\n",
      "Trainable params: 4,492,935\n",
      "Non-trainable params: 3,968\n",
      "_________________________________________________________________\n"
     ]
    }
   ],
   "source": [
    "# Defining the model\n",
    "# model=Sequential([\n",
    "#     Conv2D(filters=30,kernel_size=(3,3),strides=1,activation='relu',name='layer1',input_shape=(256,256,3)),\n",
    "#     Conv2D(filters=20,kernel_size=(3,3),strides=1,activation='relu',name='layer2'),\n",
    "#     Conv2D(filters=10,kernel_size=(3,3),strides=1,activation='relu',name='layer3'),\n",
    "#     MaxPool2D(pool_size=(2,3)),\n",
    "#     Dropout(0.25),\n",
    "\n",
    "#     Conv2D(filters=30,kernel_size=(3,3),strides=1,activation='relu',name='layer4'),\n",
    "#     Conv2D(filters=20,kernel_size=(3,3),strides=1,activation='relu',name='layer5'),\n",
    "#     MaxPool2D(pool_size=(2,3)),\n",
    "#     Dropout(0.05),\n",
    "\n",
    "#     Conv2D(filters=20,kernel_size=(3,3),strides=1,activation='relu',name='layer6'),\n",
    "#     Conv2D(filters=10,kernel_size=(3,3),strides=1,activation='relu',name='layer7'),\n",
    "#     MaxPool2D(pool_size=(2,3)),\n",
    "#     Dropout(0.05),\n",
    "\n",
    "#     Dense(units=50,activation='relu',name='layer8'),\n",
    "#     Flatten(),\n",
    "#     Flatten(),\n",
    "#     Dense(units=7,activation='softmax',name='layer9'),\n",
    "# ])\n",
    "from keras.models import Sequential\n",
    "from keras.layers import Dense, Conv2D, MaxPool2D, Dropout, Flatten,BatchNormalization\n",
    "from keras import regularizers\n",
    "\n",
    "model= tf.keras.models.Sequential()\n",
    "model.add(Conv2D(32, kernel_size=(3, 3), padding='same', activation='relu', input_shape=(48, 48,1)))\n",
    "model.add(Conv2D(64,(3,3), padding='same', activation='relu' ))\n",
    "model.add(BatchNormalization())\n",
    "model.add(MaxPool2D(pool_size=(2, 2)))\n",
    "model.add(Dropout(0.25))\n",
    "\n",
    "model.add(Conv2D(128,(5,5), padding='same', activation='relu'))\n",
    "model.add(BatchNormalization())\n",
    "model.add(MaxPool2D(pool_size=(2, 2)))\n",
    "model.add(Dropout(0.25))\n",
    "    \n",
    "model.add(Conv2D(512,(3,3), padding='same', activation='relu', kernel_regularizer=regularizers.l2(0.01)))\n",
    "model.add(BatchNormalization())\n",
    "model.add(MaxPool2D(pool_size=(2, 2)))\n",
    "model.add(Dropout(0.25))\n",
    "\n",
    "model.add(Conv2D(512,(3,3), padding='same', activation='relu', kernel_regularizer=regularizers.l2(0.01)))\n",
    "model.add(BatchNormalization())\n",
    "model.add(MaxPool2D(pool_size=(2, 2)))\n",
    "model.add(Dropout(0.25))\n",
    "\n",
    "model.add(Flatten()) \n",
    "model.add(Dense(256,activation = 'relu'))\n",
    "model.add(BatchNormalization())\n",
    "model.add(Dropout(0.25))\n",
    "    \n",
    "model.add(Dense(512,activation = 'relu'))\n",
    "model.add(BatchNormalization())\n",
    "model.add(Dropout(0.25))\n",
    "\n",
    "model.add(Dense(7, activation='softmax'))\n",
    "\n",
    "# model = Sequential()\n",
    "# model.add(Conv2D(10, (3, 3), activation='relu', input_shape=(120, 120, 1)))\n",
    "# model.add(MaxPooling2D((2, 2)))\n",
    "# model.add(Dropout(0.3))\n",
    "# model.add(Conv2D(10, (3, 3), activation='relu'))\n",
    "# model.add(MaxPooling2D((2, 2)))\n",
    "# model.add(Dropout(0.25))\n",
    "# model.add(Conv2D(10, (3, 3), activation='relu'))\n",
    "\n",
    "# model.add(MaxPooling2D((2, 2)))\n",
    "# model.add(Conv2D(10, (3, 3), activation='relu'))\n",
    "# model.add(Flatten())\n",
    "# model.add(Dense(36, activation='relu'))\n",
    "# model.add(Dense(7, activation='softmax'))\n",
    "\n",
    "model.summary()\n"
   ]
  },
  {
   "cell_type": "code",
   "execution_count": 11,
   "metadata": {},
   "outputs": [],
   "source": [
    "model.compile(\n",
    "    loss=tf.keras.losses.sparse_categorical_crossentropy,\n",
    "    optimizer='Adam',\n",
    "    metrics=['accuracy']\n",
    ")"
   ]
  },
  {
   "cell_type": "code",
   "execution_count": 12,
   "metadata": {},
   "outputs": [],
   "source": [
    "logdir=\"D:\\\\Machine Learning\\\\Projects\\\\Human Emotion Detection\\\\Logs\"\n",
    "tensorboard_callback=tf.keras.callbacks.TensorBoard(log_dir=logdir)"
   ]
  },
  {
   "cell_type": "code",
   "execution_count": 13,
   "metadata": {},
   "outputs": [
    {
     "name": "stdout",
     "output_type": "stream",
     "text": [
      "Epoch 1/60\n",
      "336/336 [==============================] - 66s 171ms/step - loss: 5.6135 - accuracy: 0.2377 - val_loss: 3.1268 - val_accuracy: 0.2586\n",
      "Epoch 2/60\n",
      "336/336 [==============================] - 31s 93ms/step - loss: 2.3889 - accuracy: 0.3800 - val_loss: 2.4919 - val_accuracy: 0.3452\n",
      "Epoch 3/60\n",
      "336/336 [==============================] - 32s 94ms/step - loss: 2.2072 - accuracy: 0.4639 - val_loss: 2.2202 - val_accuracy: 0.4203\n",
      "Epoch 4/60\n",
      "336/336 [==============================] - 32s 96ms/step - loss: 2.2274 - accuracy: 0.4906 - val_loss: 2.7337 - val_accuracy: 0.3682\n",
      "Epoch 5/60\n",
      "336/336 [==============================] - 32s 95ms/step - loss: 2.1886 - accuracy: 0.5092 - val_loss: 2.3057 - val_accuracy: 0.4569\n",
      "Epoch 6/60\n",
      "336/336 [==============================] - 32s 95ms/step - loss: 2.0983 - accuracy: 0.5208 - val_loss: 2.1860 - val_accuracy: 0.4459\n",
      "Epoch 7/60\n",
      "336/336 [==============================] - 32s 95ms/step - loss: 2.0664 - accuracy: 0.5272 - val_loss: 2.2525 - val_accuracy: 0.5005\n",
      "Epoch 8/60\n",
      "336/336 [==============================] - 33s 97ms/step - loss: 2.0302 - accuracy: 0.5363 - val_loss: 2.2050 - val_accuracy: 0.4457\n",
      "Epoch 9/60\n",
      "336/336 [==============================] - 33s 97ms/step - loss: 2.1032 - accuracy: 0.5411 - val_loss: 2.1069 - val_accuracy: 0.5217\n",
      "Epoch 10/60\n",
      "336/336 [==============================] - 32s 95ms/step - loss: 2.0581 - accuracy: 0.5455 - val_loss: 1.9711 - val_accuracy: 0.5412\n",
      "Epoch 11/60\n",
      "336/336 [==============================] - 32s 95ms/step - loss: 1.9677 - accuracy: 0.5575 - val_loss: 2.0704 - val_accuracy: 0.5196\n",
      "Epoch 12/60\n",
      "336/336 [==============================] - 32s 95ms/step - loss: 2.0710 - accuracy: 0.5560 - val_loss: 2.1688 - val_accuracy: 0.5094\n",
      "Epoch 13/60\n",
      "336/336 [==============================] - 32s 96ms/step - loss: 2.0275 - accuracy: 0.5618 - val_loss: 2.0519 - val_accuracy: 0.5181\n",
      "Epoch 14/60\n",
      "336/336 [==============================] - 33s 98ms/step - loss: 1.9871 - accuracy: 0.5653 - val_loss: 2.0571 - val_accuracy: 0.5285\n",
      "Epoch 15/60\n",
      "336/336 [==============================] - 28s 84ms/step - loss: 1.9600 - accuracy: 0.5739 - val_loss: 2.2051 - val_accuracy: 0.5139\n",
      "Epoch 16/60\n",
      "336/336 [==============================] - 24s 72ms/step - loss: 1.9818 - accuracy: 0.5766 - val_loss: 2.0357 - val_accuracy: 0.5364\n",
      "Epoch 17/60\n",
      "336/336 [==============================] - 24s 72ms/step - loss: 1.8833 - accuracy: 0.5852 - val_loss: 1.9326 - val_accuracy: 0.5692\n",
      "Epoch 18/60\n",
      "336/336 [==============================] - 25s 73ms/step - loss: 1.9193 - accuracy: 0.5882 - val_loss: 1.9894 - val_accuracy: 0.5246\n",
      "Epoch 19/60\n",
      "336/336 [==============================] - 25s 73ms/step - loss: 1.8758 - accuracy: 0.5884 - val_loss: 1.9702 - val_accuracy: 0.5599\n",
      "Epoch 20/60\n",
      "336/336 [==============================] - 25s 73ms/step - loss: 1.8205 - accuracy: 0.5948 - val_loss: 1.9671 - val_accuracy: 0.5421\n",
      "Epoch 21/60\n",
      "336/336 [==============================] - 25s 73ms/step - loss: 1.8116 - accuracy: 0.5999 - val_loss: 2.0304 - val_accuracy: 0.5524\n",
      "Epoch 22/60\n",
      "336/336 [==============================] - 25s 73ms/step - loss: 1.7860 - accuracy: 0.6092 - val_loss: 1.8289 - val_accuracy: 0.5634\n",
      "Epoch 23/60\n",
      "336/336 [==============================] - 25s 73ms/step - loss: 1.7418 - accuracy: 0.6126 - val_loss: 1.8770 - val_accuracy: 0.5661\n",
      "Epoch 24/60\n",
      "336/336 [==============================] - 24s 72ms/step - loss: 1.7107 - accuracy: 0.6137 - val_loss: 1.8204 - val_accuracy: 0.5663\n",
      "Epoch 25/60\n",
      "336/336 [==============================] - 24s 72ms/step - loss: 1.7065 - accuracy: 0.6202 - val_loss: 1.8630 - val_accuracy: 0.5499\n",
      "Epoch 26/60\n",
      "336/336 [==============================] - 24s 72ms/step - loss: 1.6957 - accuracy: 0.6174 - val_loss: 1.8443 - val_accuracy: 0.5659\n",
      "Epoch 27/60\n",
      "336/336 [==============================] - 25s 73ms/step - loss: 1.6931 - accuracy: 0.6248 - val_loss: 1.9844 - val_accuracy: 0.5711\n",
      "Epoch 28/60\n",
      "336/336 [==============================] - 25s 73ms/step - loss: 1.7177 - accuracy: 0.6249 - val_loss: 2.0711 - val_accuracy: 0.5219\n",
      "Epoch 29/60\n",
      "336/336 [==============================] - 24s 71ms/step - loss: 1.6099 - accuracy: 0.6375 - val_loss: 1.7352 - val_accuracy: 0.5901\n",
      "Epoch 30/60\n",
      "336/336 [==============================] - 25s 74ms/step - loss: 1.6331 - accuracy: 0.6378 - val_loss: 1.7362 - val_accuracy: 0.5739\n",
      "Epoch 31/60\n",
      "336/336 [==============================] - 25s 73ms/step - loss: 1.6456 - accuracy: 0.6367 - val_loss: 1.7755 - val_accuracy: 0.5897\n",
      "Epoch 32/60\n",
      "336/336 [==============================] - 23s 69ms/step - loss: 1.5537 - accuracy: 0.6439 - val_loss: 1.6848 - val_accuracy: 0.5839\n",
      "Epoch 33/60\n",
      "336/336 [==============================] - 24s 70ms/step - loss: 1.5295 - accuracy: 0.6459 - val_loss: 1.6631 - val_accuracy: 0.5897\n",
      "Epoch 34/60\n",
      "336/336 [==============================] - 25s 74ms/step - loss: 1.5001 - accuracy: 0.6499 - val_loss: 1.7246 - val_accuracy: 0.5796\n",
      "Epoch 35/60\n",
      "336/336 [==============================] - 25s 73ms/step - loss: 1.4919 - accuracy: 0.6555 - val_loss: 1.6881 - val_accuracy: 0.5800\n",
      "Epoch 36/60\n",
      "336/336 [==============================] - 25s 74ms/step - loss: 1.5225 - accuracy: 0.6549 - val_loss: 1.7778 - val_accuracy: 0.5783\n",
      "Epoch 37/60\n",
      "336/336 [==============================] - 24s 72ms/step - loss: 1.4809 - accuracy: 0.6563 - val_loss: 1.6575 - val_accuracy: 0.5885\n",
      "Epoch 38/60\n",
      "336/336 [==============================] - 25s 74ms/step - loss: 1.4259 - accuracy: 0.6624 - val_loss: 1.6361 - val_accuracy: 0.5768\n",
      "Epoch 39/60\n",
      "336/336 [==============================] - 24s 72ms/step - loss: 1.4421 - accuracy: 0.6658 - val_loss: 1.6646 - val_accuracy: 0.5783\n",
      "Epoch 40/60\n",
      "336/336 [==============================] - 24s 72ms/step - loss: 1.4960 - accuracy: 0.6585 - val_loss: 1.6664 - val_accuracy: 0.5838\n",
      "Epoch 41/60\n",
      "336/336 [==============================] - 25s 73ms/step - loss: 1.3727 - accuracy: 0.6702 - val_loss: 1.6510 - val_accuracy: 0.5747\n",
      "Epoch 42/60\n",
      "336/336 [==============================] - 25s 73ms/step - loss: 1.4081 - accuracy: 0.6689 - val_loss: 1.6125 - val_accuracy: 0.6028\n",
      "Epoch 43/60\n",
      "336/336 [==============================] - 25s 73ms/step - loss: 1.4368 - accuracy: 0.6708 - val_loss: 1.6996 - val_accuracy: 0.5843\n",
      "Epoch 44/60\n",
      "336/336 [==============================] - 24s 71ms/step - loss: 1.4090 - accuracy: 0.6748 - val_loss: 1.6419 - val_accuracy: 0.5861\n",
      "Epoch 45/60\n",
      "336/336 [==============================] - 24s 72ms/step - loss: 1.3994 - accuracy: 0.6775 - val_loss: 1.6802 - val_accuracy: 0.5965\n",
      "Epoch 46/60\n",
      "336/336 [==============================] - 24s 72ms/step - loss: 1.4092 - accuracy: 0.6795 - val_loss: 1.6340 - val_accuracy: 0.5960\n",
      "Epoch 47/60\n",
      "336/336 [==============================] - 25s 73ms/step - loss: 1.3929 - accuracy: 0.6842 - val_loss: 1.5809 - val_accuracy: 0.6115\n",
      "Epoch 48/60\n",
      "336/336 [==============================] - 24s 70ms/step - loss: 1.3450 - accuracy: 0.6862 - val_loss: 1.6070 - val_accuracy: 0.6125\n",
      "Epoch 49/60\n",
      "336/336 [==============================] - 24s 71ms/step - loss: 1.3650 - accuracy: 0.6870 - val_loss: 1.6808 - val_accuracy: 0.5911\n",
      "Epoch 50/60\n",
      "336/336 [==============================] - 25s 74ms/step - loss: 1.3175 - accuracy: 0.6946 - val_loss: 1.7528 - val_accuracy: 0.5728\n",
      "Epoch 51/60\n",
      "336/336 [==============================] - 25s 74ms/step - loss: 1.3235 - accuracy: 0.6968 - val_loss: 2.0772 - val_accuracy: 0.5650\n",
      "Epoch 52/60\n",
      "336/336 [==============================] - 25s 75ms/step - loss: 1.3440 - accuracy: 0.6957 - val_loss: 1.6946 - val_accuracy: 0.6033\n",
      "Epoch 53/60\n",
      "336/336 [==============================] - 24s 71ms/step - loss: 1.3298 - accuracy: 0.6974 - val_loss: 1.9748 - val_accuracy: 0.5838\n",
      "Epoch 54/60\n",
      "336/336 [==============================] - 24s 70ms/step - loss: 1.3293 - accuracy: 0.6944 - val_loss: 1.7146 - val_accuracy: 0.5839\n",
      "Epoch 55/60\n",
      "336/336 [==============================] - 26s 77ms/step - loss: 1.3125 - accuracy: 0.6960 - val_loss: 1.5941 - val_accuracy: 0.6065\n",
      "Epoch 56/60\n",
      "336/336 [==============================] - 23s 68ms/step - loss: 1.2978 - accuracy: 0.7019 - val_loss: 1.6380 - val_accuracy: 0.5957\n",
      "Epoch 57/60\n",
      "336/336 [==============================] - 24s 70ms/step - loss: 1.2856 - accuracy: 0.7047 - val_loss: 1.6627 - val_accuracy: 0.5814\n",
      "Epoch 58/60\n",
      "336/336 [==============================] - 23s 69ms/step - loss: 1.2760 - accuracy: 0.7095 - val_loss: 1.6549 - val_accuracy: 0.5820\n",
      "Epoch 59/60\n",
      "336/336 [==============================] - 24s 70ms/step - loss: 1.2714 - accuracy: 0.7079 - val_loss: 1.6252 - val_accuracy: 0.5903\n",
      "Epoch 60/60\n",
      "336/336 [==============================] - 24s 70ms/step - loss: 1.2810 - accuracy: 0.7071 - val_loss: 1.6285 - val_accuracy: 0.6015\n"
     ]
    }
   ],
   "source": [
    "hist=model.fit(\n",
    "    train,\n",
    "    epochs=60,\n",
    "    validation_data=val,\n",
    "    callbacks=[tensorboard_callback]\n",
    ")"
   ]
  },
  {
   "cell_type": "code",
   "execution_count": 14,
   "metadata": {},
   "outputs": [
    {
     "data": {
      "image/png": "[encoded data removed]",
      "text/plain": [
       "<Figure size 640x480 with 1 Axes>"
      ]
     },
     "metadata": {},
     "output_type": "display_data"
    }
   ],
   "source": [
    "fig=plt.figure()\n",
    "plt.plot(hist.history['loss'],color='teal',label='loss')\n",
    "plt.plot(hist.history['val_loss'],color='orange',label='val_loss')\n",
    "fig.suptitle('Loss',fontsize=20)\n",
    "plt.legend(loc='upper left')\n",
    "plt.show()"
   ]
  },
  {
   "cell_type": "code",
   "execution_count": 15,
   "metadata": {},
   "outputs": [
    {
     "data": {
      "image/png": "[encoded data removed]",
      "text/plain": [
       "<Figure size 640x480 with 1 Axes>"
      ]
     },
     "metadata": {},
     "output_type": "display_data"
    }
   ],
   "source": [
    "fig=plt.figure()\n",
    "plt.plot(hist.history['accuracy'],color='teal',label='Accuracy')\n",
    "plt.plot(hist.history['val_accuracy'],color='orange',label='Val_Accuracy')\n",
    "fig.suptitle('Accuracy',fontsize=20)\n",
    "plt.legend(loc='upper left')\n",
    "plt.show()"
   ]
  },
  {
   "cell_type": "code",
   "execution_count": 16,
   "metadata": {},
   "outputs": [],
   "source": [
    "# Saving the Model\n",
    "model.save('model1.h5')"
   ]
  },
  {
   "cell_type": "code",
   "execution_count": null,
   "metadata": {},
   "outputs": [],
   "source": [
    "from keras.models import load_model\n",
    "model=load_model('model.h5')"
   ]
  },
  {
   "cell_type": "code",
   "execution_count": null,
   "metadata": {},
   "outputs": [],
   "source": [
    "# import cv2\n",
    "# # Load the image\n",
    "# img = cv2.imread(\"D:\\\\Machine Learning\\\\Projects\\\\Image Classifier\\\\Testing\\\\1.jpg\")\n",
    "# # Load the cascade classifier for face detection\n",
    "# face_cascade = cv2.CascadeClassifier('haarcascade_frontalface_default.xml')\n",
    "\n",
    "# # Detect faces in the image\n",
    "# faces = face_cascade.detectMultiScale(img, scaleFactor=1.1, minNeighbors=5)\n",
    "\n",
    "# # Crop the faces and display them\n",
    "# for (x, y, w, h) in faces:\n",
    "#     # Crop the image to the specified coordinates\n",
    "#     face = img[y:y+h, x:x+w]\n",
    "\n",
    "#     # Display the cropped face\n",
    "#     cv2.imwrite(\"D:\\\\Machine Learning\\\\Projects\\\\Image Classifier\\\\Testing\\\\zoomed.jpg\", face)\n",
    "#     # cv2.imshow('Face', face)\n",
    "# resize=tf.image.resize(face,(54,54))\n",
    "# plt.imshow(resize.numpy().astype(int))\n",
    "# plt.show()\n",
    "\n",
    "import cv2\n",
    "import tensorflow as tf\n",
    "import matplotlib.pyplot as plt\n",
    "\n",
    "# Load the image\n",
    "img = cv2.imread(\"..\\\\Testing\\\\10.jpg\")\n",
    "plt.imshow(cv2.cvtColor(img,cv2.COLOR_BGR2RGB))\n",
    "# Load the cascade classifier for face detection\n",
    "face_cascade = cv2.CascadeClassifier('haarcascade_frontalface_default.xml')\n",
    "\n",
    "# Detect faces in the image\n",
    "faces = face_cascade.detectMultiScale(img, scaleFactor=1.1, minNeighbors=5)\n",
    "\n",
    "# Process each detected face\n",
    "for (x, y, w, h) in faces:\n",
    "    # Crop the image to the specified coordinates\n",
    "    face = img[y:y+h, x:x+w]\n",
    "\n",
    "    # Convert the face to grayscale\n",
    "    gray_face = cv2.cvtColor(face, cv2.COLOR_BGR2GRAY)\n",
    "\n",
    "    # Resize the grayscale face to 54x54 pixels\n",
    "    resized_gray_face = cv2.resize(gray_face, (54, 54))\n",
    "\n",
    "    # Display the resized grayscale face\n",
    "    # plt.imshow(resized_gray_face, cmap='gray')\n",
    "    plt.show()\n"
   ]
  },
  {
   "cell_type": "code",
   "execution_count": null,
   "metadata": {},
   "outputs": [],
   "source": [
    "yhat=model.predict(np.expand_dims(resized_gray_face/255,0))\n",
    "output=(np.argmax(yhat))\n",
    "if(output==0):\n",
    "    print('Angry Face Detected')\n",
    "elif(output==1):\n",
    "    print('Disgusted Face Detected')\n",
    "elif(output==2):\n",
    "    print('Feared Face Detected')\n",
    "elif(output==3):\n",
    "    print('Happy Face Detected')\n",
    "elif(output==4):\n",
    "    print('Neutral Face Detected')\n",
    "elif(output==5):\n",
    "    print('Sad Face Detected')\n",
    "elif(output==6):\n",
    "    print('Surprised Face Detected')"
   ]
  },
  {
   "cell_type": "markdown",
   "metadata": {},
   "source": [
    "['angry', 'disgust', 'fear', 'happy', 'neutral', 'sad', 'surprise']"
   ]
  }
 ],
 "metadata": {
  "kernelspec": {
   "display_name": "tf",
   "language": "python",
   "name": "python3"
  },
  "language_info": {
   "codemirror_mode": {
    "name": "ipython",
    "version": 3
   },
   "file_extension": ".py",
   "mimetype": "text/x-python",
   "name": "python",
   "nbconvert_exporter": "python",
   "pygments_lexer": "ipython3",
   "version": "3.9.18"
  }
 },
 "nbformat": 4,
 "nbformat_minor": 2
}
